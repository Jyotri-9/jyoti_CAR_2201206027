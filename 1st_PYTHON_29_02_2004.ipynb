{
  "cells": [
    {
      "cell_type": "markdown",
      "metadata": {
        "id": "view-in-github",
        "colab_type": "text"
      },
      "source": [
        "<a href=\"https://colab.research.google.com/github/Jyotri-9/jyoti_CAR_2201206027/blob/main/1st_PYTHON_29_02_2004.ipynb\" target=\"_parent\"><img src=\"https://colab.research.google.com/assets/colab-badge.svg\" alt=\"Open In Colab\"/></a>"
      ]
    },
    {
      "cell_type": "code",
      "execution_count": null,
      "metadata": {
        "colab": {
          "base_uri": "https://localhost:8080/"
        },
        "id": "aCPzJnvubr_Z",
        "outputId": "4b1c7955-c961-4c67-8d2c-746e5303c122"
      },
      "outputs": [
        {
          "name": "stdout",
          "output_type": "stream",
          "text": [
            "a= 100\n"
          ]
        }
      ],
      "source": [
        "a=100\n",
        "print(\"a=\",a)"
      ]
    },
    {
      "cell_type": "code",
      "execution_count": null,
      "metadata": {
        "colab": {
          "base_uri": "https://localhost:8080/"
        },
        "id": "3DkEfpzWdiB6",
        "outputId": "ca686328-7a35-4f05-d4ba-f1522b6378d8"
      },
      "outputs": [
        {
          "name": "stdout",
          "output_type": "stream",
          "text": [
            "12-12-2022\n"
          ]
        }
      ],
      "source": [
        "a=12\n",
        "b=12\n",
        "c=2022\n",
        "print(a,b,c,sep=\"-\")"
      ]
    },
    {
      "cell_type": "code",
      "execution_count": null,
      "metadata": {
        "colab": {
          "base_uri": "https://localhost:8080/"
        },
        "id": "BYFRSe2Ud4L6",
        "outputId": "cb643e5b-3207-419e-9998-bf549e28ec92"
      },
      "outputs": [
        {
          "name": "stdout",
          "output_type": "stream",
          "text": [
            "Enter first No:567\n",
            "Enter Second No:76767\n",
            "56776767\n"
          ]
        }
      ],
      "source": [
        "a=input('Enter first No:')\n",
        "b=input('Enter Second No:')\n",
        "c=a+b\n",
        "print(c)\n"
      ]
    },
    {
      "cell_type": "code",
      "execution_count": null,
      "metadata": {
        "colab": {
          "base_uri": "https://localhost:8080/"
        },
        "id": "AfDWsJoMexnt",
        "outputId": "ff6e3c1b-b8bb-4a65-fdec-660816617915"
      },
      "outputs": [
        {
          "name": "stdout",
          "output_type": "stream",
          "text": [
            "Enter First No:678\n",
            "Enter Second No:\n",
            "678\n"
          ]
        }
      ],
      "source": [
        "a=input('Enter First No:')\n",
        "b=input('Enter Second No:')\n",
        "c=a+b\n",
        "print(c)"
      ]
    },
    {
      "cell_type": "code",
      "execution_count": null,
      "metadata": {
        "colab": {
          "base_uri": "https://localhost:8080/"
        },
        "id": "fsbsndwufymU",
        "outputId": "4ccfe045-2d1b-4fff-d741-3dd635db3de0"
      },
      "outputs": [
        {
          "name": "stdout",
          "output_type": "stream",
          "text": [
            "Enter your namejyoti\n",
            "myself jyoti\n"
          ]
        }
      ],
      "source": [
        "n=input('Enter your name')\n",
        "print('myself',n)"
      ]
    },
    {
      "cell_type": "code",
      "execution_count": null,
      "metadata": {
        "colab": {
          "base_uri": "https://localhost:8080/"
        },
        "id": "MA6GHM6ohF8F",
        "outputId": "cb0f8803-2521-4551-dcf8-f03a6485e2fe"
      },
      "outputs": [
        {
          "name": "stdout",
          "output_type": "stream",
          "text": [
            "a+b= 7\n",
            "a-b= -3\n",
            "a*b= 10\n",
            "a/b= 0.4\n",
            "a%b= 2\n",
            "a-b 0\n",
            "a**b= 32\n"
          ]
        }
      ],
      "source": [
        "#Arithimetic operators\n",
        "a=2\n",
        "b=5\n",
        "c=a+b\n",
        "print('a+b=',c)\n",
        "d=a-b\n",
        "print('a-b=',d)\n",
        "e=a*b\n",
        "print('a*b=',e)\n",
        "f=a/b\n",
        "print('a/b=',f)\n",
        "g=a%b\n",
        "print('a%b=',g)\n",
        "h=a//b\n",
        "print('a-b',h)\n",
        "i=a**b\n",
        "print('a**b=',i)\n"
      ]
    },
    {
      "cell_type": "code",
      "execution_count": null,
      "metadata": {
        "colab": {
          "base_uri": "https://localhost:8080/"
        },
        "id": "4193yMrllNGi",
        "outputId": "c17876b1-fd10-4f4f-81b7-8494d4b33bdd"
      },
      "outputs": [
        {
          "name": "stdout",
          "output_type": "stream",
          "text": [
            "a !=b= (True,)\n"
          ]
        }
      ],
      "source": [
        "a=8\n",
        "b=5\n",
        "d=a !=b,\n",
        "print('a !=b=',d)"
      ]
    },
    {
      "cell_type": "code",
      "execution_count": null,
      "metadata": {
        "colab": {
          "base_uri": "https://localhost:8080/"
        },
        "id": "lqYD2XX1mGT7",
        "outputId": "821101c2-c295-458f-efe4-14c70977ca8c"
      },
      "outputs": [
        {
          "name": "stdout",
          "output_type": "stream",
          "text": [
            "a= 7\n",
            "b= 5\n"
          ]
        }
      ],
      "source": [
        "a=2\n",
        "b=5\n",
        "a+=b\n",
        "print('a=',a)\n",
        "print('b=',b)"
      ]
    },
    {
      "cell_type": "code",
      "execution_count": null,
      "metadata": {
        "colab": {
          "base_uri": "https://localhost:8080/"
        },
        "id": "ngtz2iRnmrQg",
        "outputId": "956c2afb-4954-456e-db07-ace0aa2089c2"
      },
      "outputs": [
        {
          "name": "stdout",
          "output_type": "stream",
          "text": [
            "a is b= True\n",
            "a is not b= False\n"
          ]
        }
      ],
      "source": [
        "#special operator\n",
        "a=5\n",
        "b=5\n",
        "d=a is b\n",
        "print('a is b=',d)\n",
        "d=a is not b\n",
        "print('a is not b=',d)"
      ]
    },
    {
      "cell_type": "code",
      "execution_count": null,
      "metadata": {
        "colab": {
          "base_uri": "https://localhost:8080/"
        },
        "id": "OVu_BfVBo3CC",
        "outputId": "bbc1826a-6559-4836-9687-ed2cf2b19b1b"
      },
      "outputs": [
        {
          "name": "stdout",
          "output_type": "stream",
          "text": [
            "b in a= False\n",
            " b not in a= True\n"
          ]
        }
      ],
      "source": [
        "# in and not in operator\n",
        "a=\"HELLO\"\n",
        "b=\"1\"\n",
        "c=b in a\n",
        "print(\"b in a=\",c)\n",
        "d=b not in a\n",
        "print(\" b not in a=\",d)"
      ]
    },
    {
      "cell_type": "code",
      "execution_count": null,
      "metadata": {
        "colab": {
          "base_uri": "https://localhost:8080/"
        },
        "id": "t-1T7u45qpq7",
        "outputId": "424cae71-33c9-45cf-bfe5-c3831bd45e49"
      },
      "outputs": [
        {
          "name": "stdout",
          "output_type": "stream",
          "text": [
            "Enter a number143\n"
          ]
        }
      ],
      "source": [
        "# input a no and check even.\n",
        "a=int(input('Enter a number'))\n",
        "if a%2==0:\n",
        "    print('Even No')"
      ]
    },
    {
      "cell_type": "code",
      "execution_count": null,
      "metadata": {
        "colab": {
          "base_uri": "https://localhost:8080/"
        },
        "id": "Je25giNnu0ti",
        "outputId": "eab522d8-723f-424c-8762-717c04e2ae0b"
      },
      "outputs": [
        {
          "name": "stdout",
          "output_type": "stream",
          "text": [
            "p\n",
            "y\n",
            "t\n",
            "h\n",
            "o\n",
            "n\n"
          ]
        }
      ],
      "source": [
        "str= 'python'\n",
        "for i in str:\n",
        "  print(i)\n"
      ]
    },
    {
      "cell_type": "code",
      "execution_count": null,
      "metadata": {
        "colab": {
          "base_uri": "https://localhost:8080/"
        },
        "id": "CT47Af2uxfUB",
        "outputId": "2aa5485a-61ca-4743-f066-3c35ddae416d"
      },
      "outputs": [
        {
          "name": "stdout",
          "output_type": "stream",
          "text": [
            "1\n",
            "2\n",
            "3\n",
            "4\n",
            "5\n",
            "6\n",
            "7\n",
            "8\n",
            "9\n",
            "10\n"
          ]
        }
      ],
      "source": [
        "for i in range(1,11):\n",
        "  print(i)"
      ]
    },
    {
      "cell_type": "code",
      "execution_count": null,
      "metadata": {
        "colab": {
          "base_uri": "https://localhost:8080/"
        },
        "id": "dQmu1KSXzofP",
        "outputId": "c91617a4-4305-4228-b916-076a5246e9ce"
      },
      "outputs": [
        {
          "name": "stdout",
          "output_type": "stream",
          "text": [
            "10\n"
          ]
        }
      ],
      "source": [
        "# while loop\n",
        "n = i\n",
        "while n<=10:\n",
        "  print(n)\n",
        "  n=n+1"
      ]
    },
    {
      "cell_type": "code",
      "execution_count": null,
      "metadata": {
        "colab": {
          "base_uri": "https://localhost:8080/"
        },
        "id": "8qHcKE4FjkBb",
        "outputId": "f79773d6-1908-4be1-faf0-e529ca80f533"
      },
      "outputs": [
        {
          "name": "stdout",
          "output_type": "stream",
          "text": [
            "Enter b=?)12\n",
            "Enter h=?11\n",
            "Enter a=?10\n",
            "Enter b=?22\n",
            "Enter c=?4\n",
            "PERIMETER OF TRIANGLE= 880\n"
          ]
        }
      ],
      "source": [
        "# To find AREA and PERIMETER\n",
        "# Triangle AREA =1/2X b* h,PERIMETER=a+b+c\n",
        "b=int(input('Enter b=?)'))\n",
        "h=int(input('Enter h=?'))\n",
        "area=0.5*b*h\n",
        "print# To find AREA and PERIMETER,\n",
        "#nt('AREA OF TRIANGLE=',area)\n",
        "#Triangle PERIMETER=a+b+c\n",
        "a=int(input('Enter a=?'))\n",
        "b=int(input('Enter b=?'))\n",
        "c=int(input('Enter c=?'))\n",
        "perimeter=a*b*c\n",
        "print('PERIMETER OF TRIANGLE=',perimeter)"
      ]
    },
    {
      "cell_type": "code",
      "execution_count": null,
      "metadata": {
        "colab": {
          "base_uri": "https://localhost:8080/"
        },
        "id": "vW5W36KRh4we",
        "outputId": "7a045aa3-e9a2-448b-b500-3928a0dff422"
      },
      "outputs": [
        {
          "name": "stdout",
          "output_type": "stream",
          "text": [
            "A\n",
            "I\n",
            "T\n"
          ]
        }
      ],
      "source": [
        "for var in\"ABIT\":\n",
        "  if var==\"B\":\n",
        "    continue\n",
        "  print(var)"
      ]
    },
    {
      "cell_type": "code",
      "execution_count": null,
      "metadata": {
        "colab": {
          "base_uri": "https://localhost:8080/"
        },
        "id": "QC_eB6NYjhe7",
        "outputId": "4906b8d4-fe84-44a7-84ec-50584a4f0d46"
      },
      "outputs": [
        {
          "name": "stdout",
          "output_type": "stream",
          "text": [
            "0\n",
            "1\n",
            "2\n"
          ]
        }
      ],
      "source": [
        "for i in range(10):\n",
        "  print(i)\n",
        "  if i==2:\n",
        "    break"
      ]
    },
    {
      "cell_type": "code",
      "execution_count": null,
      "metadata": {
        "colab": {
          "base_uri": "https://localhost:8080/"
        },
        "id": "xIh5uS2zleDy",
        "outputId": "9ea4d92c-1a9d-4e29-a700-97d7bc8110ba"
      },
      "outputs": [
        {
          "name": "stdout",
          "output_type": "stream",
          "text": [
            "7.25\n"
          ]
        }
      ],
      "source": [
        "x = abs(-7.25)\n",
        "print(x)"
      ]
    },
    {
      "cell_type": "code",
      "execution_count": null,
      "metadata": {
        "colab": {
          "base_uri": "https://localhost:8080/"
        },
        "id": "81BHmQl7l6rD",
        "outputId": "9fcc54aa-62cf-4545-a527-3cd48f232271"
      },
      "outputs": [
        {
          "name": "stdout",
          "output_type": "stream",
          "text": [
            "False\n"
          ]
        }
      ],
      "source": [
        "list = [0,2,2]\n",
        "a = all(list)\n",
        "print(a)"
      ]
    },
    {
      "cell_type": "code",
      "execution_count": null,
      "metadata": {
        "colab": {
          "base_uri": "https://localhost:8080/"
        },
        "id": "i_AYWX6ym4Wi",
        "outputId": "6934f328-679b-4433-8e4a-131587fba9d7"
      },
      "outputs": [
        {
          "name": "stdout",
          "output_type": "stream",
          "text": [
            "True\n"
          ]
        }
      ],
      "source": [
        "tuple = (0, 1, False)\n",
        "a = any(tuple)\n",
        "print(a)\n"
      ]
    },
    {
      "cell_type": "code",
      "execution_count": null,
      "metadata": {
        "colab": {
          "base_uri": "https://localhost:8080/"
        },
        "id": "Eczb-C7GnzmB",
        "outputId": "ec6687c4-bafc-4ff5-88ce-02ef4aabb31d"
      },
      "outputs": [
        {
          "name": "stdout",
          "output_type": "stream",
          "text": [
            "'Mostly Sane'\n"
          ]
        }
      ],
      "source": [
        "a = ascii(\"Mostly Sane\")\n",
        "print(a)"
      ]
    },
    {
      "cell_type": "code",
      "execution_count": null,
      "metadata": {
        "colab": {
          "base_uri": "https://localhost:8080/"
        },
        "id": "_5Ns7L2AoNqE",
        "outputId": "a6f5ab18-7110-413e-ff7e-78309487d046"
      },
      "outputs": [
        {
          "name": "stdout",
          "output_type": "stream",
          "text": [
            "0b11110\n"
          ]
        }
      ],
      "source": [
        "a = bin(30)\n",
        "print(a)"
      ]
    },
    {
      "cell_type": "code",
      "execution_count": null,
      "metadata": {
        "id": "8BKKRPKpp4zr"
      },
      "outputs": [],
      "source": [
        "# user defind function\n",
        "def show():\n",
        "  print('Hello CSE')\n",
        "  show()\n"
      ]
    },
    {
      "cell_type": "code",
      "execution_count": null,
      "metadata": {
        "colab": {
          "base_uri": "https://localhost:8080/"
        },
        "id": "BOyY-dwfqvrE",
        "outputId": "056b4c3d-c7ab-4d30-e170-da0da06c5bc4"
      },
      "outputs": [
        {
          "name": "stdout",
          "output_type": "stream",
          "text": [
            "SUM OF TWO NOS= 30\n"
          ]
        }
      ],
      "source": [
        "# Passing parameters in user Defind Function\n",
        "def ADD(a,b):\n",
        "  c=a+b\n",
        "  print('SUM OF TWO NOS=',c)\n",
        "ADD(10,20)\n"
      ]
    },
    {
      "cell_type": "code",
      "execution_count": null,
      "metadata": {
        "colab": {
          "base_uri": "https://localhost:8080/"
        },
        "id": "CPO0nlLjrZ4Z",
        "outputId": "a05b9d98-c97f-4748-aab0-c92a6cd17e0c"
      },
      "outputs": [
        {
          "name": "stdout",
          "output_type": "stream",
          "text": [
            "Enter first no = ?12\n",
            "Enter second no = ?23\n",
            "SUM OF TWO NOS= 35\n"
          ]
        }
      ],
      "source": [
        "# Passing parameters in user Defind Function\n",
        "def ADD(a,b):\n",
        "  c=a+b\n",
        "  print('SUM OF TWO NOS=',c)\n",
        "p=int(input(\"Enter first no = ?\"))\n",
        "q=int(input(\"Enter second no = ?\"))\n",
        "ADD(p,q)\n"
      ]
    },
    {
      "cell_type": "code",
      "execution_count": null,
      "metadata": {
        "colab": {
          "base_uri": "https://localhost:8080/"
        },
        "id": "lFeqA0J0w3Q-",
        "outputId": "6ffe9fd0-2f0d-4fb3-f03b-cfd4d68817d8"
      },
      "outputs": [
        {
          "name": "stdout",
          "output_type": "stream",
          "text": [
            "Enter n=?7\n",
            "sum of n= 28\n"
          ]
        }
      ],
      "source": [
        "# using return statement in user defind function\n",
        "def sumfn(n):\n",
        "  s=0\n",
        "  for i in range(1,n+1):\n",
        "    s=s+i\n",
        "  return(s)\n",
        "m=int(input(\"Enter n=?\"))\n",
        "print('sum of n=',sumfn(m))"
      ]
    },
    {
      "cell_type": "code",
      "execution_count": null,
      "metadata": {
        "id": "frXSPBq42Qfd"
      },
      "outputs": [],
      "source": [
        "list1 = ['i','LOVE','PYTHON','ABIT']\n",
        "list2 = [1,2,3,4,5,6]\n",
        "list3 = ['python',20,54.6,'Jyoti','a','b']"
      ]
    },
    {
      "cell_type": "code",
      "execution_count": null,
      "metadata": {
        "colab": {
          "base_uri": "https://localhost:8080/"
        },
        "id": "OB9ziQpU3-lq",
        "outputId": "0acebc6d-0d1f-4d25-a1ca-e0f0a8bac81d"
      },
      "outputs": [
        {
          "name": "stdout",
          "output_type": "stream",
          "text": [
            "[30, 40, 50, 60]\n"
          ]
        }
      ],
      "source": [
        "list=[10,20,30,40,50,60,70,80,90]\n",
        "print(list[2:6])"
      ]
    },
    {
      "cell_type": "code",
      "execution_count": null,
      "metadata": {
        "colab": {
          "base_uri": "https://localhost:8080/"
        },
        "id": "q9VoVHJH45m7",
        "outputId": "703d0f9d-a9f6-42a8-87d1-7778ef924c3b"
      },
      "outputs": [
        {
          "name": "stdout",
          "output_type": "stream",
          "text": [
            "[10, 20, 30, 40]\n"
          ]
        }
      ],
      "source": [
        "list=[10,20,30,40,50,60,70,80,90]\n",
        "print(list[:4])"
      ]
    },
    {
      "cell_type": "code",
      "execution_count": null,
      "metadata": {
        "colab": {
          "base_uri": "https://localhost:8080/"
        },
        "id": "5jtELKlgX6Iw",
        "outputId": "c31b16c2-afa2-48e2-c591-9269999dd247"
      },
      "outputs": [
        {
          "name": "stdout",
          "output_type": "stream",
          "text": [
            "jyoti\n",
            "51\n"
          ]
        }
      ],
      "source": [
        "name = 'jyoti'\n",
        "age = 51\n",
        "is_adult = True\n",
        "print(name)\n",
        "print(age)"
      ]
    },
    {
      "cell_type": "code",
      "execution_count": null,
      "metadata": {
        "colab": {
          "base_uri": "https://localhost:8080/"
        },
        "id": "qlNZuqPCZlhi",
        "outputId": "f9c17d8f-1a2c-4da6-d496-c49be413418e"
      },
      "outputs": [
        {
          "name": "stdout",
          "output_type": "stream",
          "text": [
            "what is your name? \n"
          ]
        }
      ],
      "source": [
        "print('what is your name? ')"
      ]
    },
    {
      "cell_type": "code",
      "execution_count": null,
      "metadata": {
        "id": "HUpVJf0xVPht"
      },
      "outputs": [],
      "source": [
        "# Regular tetrahedron volume\n",
        "import math\n",
        "b=int(input('Enter b:'))\n",
        "volume"
      ]
    },
    {
      "cell_type": "code",
      "execution_count": null,
      "metadata": {
        "colab": {
          "base_uri": "https://localhost:8080/"
        },
        "id": "eIfUNuKzccNv",
        "outputId": "a903ddc7-1df0-42f7-eb72-6852f1facdd6"
      },
      "outputs": [
        {
          "name": "stdout",
          "output_type": "stream",
          "text": [
            "Enter s:10\n",
            "volume of a cube is= 100\n",
            "Enter s:21\n",
            "surface area of a cube is= 2646\n"
          ]
        }
      ],
      "source": [
        "#Cube volume\n",
        "s=int(input('Enter s:'))\n",
        "volume=s*s\n",
        "print('volume of a cube is=',volume)\n",
        "#Cube surface area\n",
        "s=int(input('Enter s:'))\n",
        "surface_area=6*s*s\n",
        "print('surface area of a cube is=',surface_area)"
      ]
    },
    {
      "cell_type": "code",
      "execution_count": null,
      "metadata": {
        "colab": {
          "base_uri": "https://localhost:8080/"
        },
        "id": "ARNs_QSJco7W",
        "outputId": "f0e69c71-0b67-4e7b-a378-d6918c01a66e"
      },
      "outputs": [
        {
          "name": "stdout",
          "output_type": "stream",
          "text": [
            "Enter l:5\n",
            "Enter w:8\n",
            "Enter h:9\n",
            "volume of a cuboid is= 360\n",
            "Enter l:9\n",
            "Enter w:4\n",
            "Enter h:3\n",
            "surface area of a cuboid is= 150\n"
          ]
        }
      ],
      "source": [
        "#Cuboid volume\n",
        "l=int(input('Enter l:'))\n",
        "w=int(input('Enter w:'))\n",
        "h=int(input('Enter h:'))\n",
        "volume=l*w*h\n",
        "print('volume of a cuboid is=',volume)\n",
        "#Cuboid surface area\n",
        "l=int(input('Enter l:'))\n",
        "w=int(input('Enter w:'))\n",
        "h=int(input('Enter h:'))\n",
        "surface_area=(2*l*h)+(2*l*w)+(2*w*h)\n",
        "print('surface area of a cuboid is=',surface_area)"
      ]
    },
    {
      "cell_type": "code",
      "execution_count": null,
      "metadata": {
        "colab": {
          "base_uri": "https://localhost:8080/"
        },
        "id": "CMQCL62Ec-y5",
        "outputId": "2d79b8ba-5715-49da-f778-49d6990058e5"
      },
      "outputs": [
        {
          "name": "stdout",
          "output_type": "stream",
          "text": [
            "Enter a:12\n",
            "Enter h:34\n",
            "volume of a prism is= 408\n",
            "Enter a:4\n",
            "Enter h8\n",
            "Enter p:9\n",
            "surface area of a prism is= 80\n"
          ]
        }
      ],
      "source": [
        "# prims volume\n",
        "a=int(input('Enter a:'))\n",
        "h=int(input('Enter h:'))\n",
        "volume=a*h\n",
        "print('volume of a prism is=',volume)\n",
        "a=int(input('Enter a:'))\n",
        "h=int(input('Enter h'))\n",
        "p=int(input('Enter p:'))\n",
        "surface_area=2*a+(h*p)\n",
        "print('surface area of a prism is=',surface_area)"
      ]
    },
    {
      "cell_type": "code",
      "execution_count": null,
      "metadata": {
        "colab": {
          "base_uri": "https://localhost:8080/"
        },
        "id": "83s4HVL0d41L",
        "outputId": "e6bc7077-17d6-43a8-aefe-a31b35496a71"
      },
      "outputs": [
        {
          "name": "stdout",
          "output_type": "stream",
          "text": [
            "['apple', 'orange', 'mango', 'banana']\n"
          ]
        }
      ],
      "source": [
        "my_list = [\"apple\",\"orange\",\"mango\",\"banana\"]\n",
        "print(my_list)"
      ]
    },
    {
      "cell_type": "code",
      "execution_count": null,
      "metadata": {
        "colab": {
          "base_uri": "https://localhost:8080/"
        },
        "id": "UVhrOHyffQbl",
        "outputId": "e487ab75-f374-4bf3-f60a-16ade06810fa"
      },
      "outputs": [
        {
          "name": "stdout",
          "output_type": "stream",
          "text": [
            "<class 'int'>\n",
            "<class 'str'>\n"
          ]
        }
      ],
      "source": [
        "print(type(23))\n",
        "print(type('jyoti'))"
      ]
    },
    {
      "cell_type": "code",
      "execution_count": null,
      "metadata": {
        "colab": {
          "base_uri": "https://localhost:8080/"
        },
        "id": "_gzKkZSGfsp9",
        "outputId": "97f159d3-c3fa-4424-839e-0aa004fc65c7"
      },
      "outputs": [
        {
          "name": "stdout",
          "output_type": "stream",
          "text": [
            "5\n"
          ]
        }
      ],
      "source": [
        "print(len('jyoti'))"
      ]
    },
    {
      "cell_type": "code",
      "execution_count": null,
      "metadata": {
        "colab": {
          "base_uri": "https://localhost:8080/"
        },
        "id": "zsKaqnIBiUK1",
        "outputId": "2ac4ba7d-5fda-49bc-80fa-dd071dc9baf5"
      },
      "outputs": [
        {
          "name": "stdout",
          "output_type": "stream",
          "text": [
            "<class 'str'>\n",
            "<class 'int'>\n",
            "<class 'bool'>\n",
            "<class 'bool'>\n"
          ]
        }
      ],
      "source": [
        "print(type('jyoti'))\n",
        "print(type(23))\n",
        "print(type(True))\n",
        "print(type(False))\n"
      ]
    },
    {
      "cell_type": "code",
      "execution_count": null,
      "metadata": {
        "id": "Vt-CPIvAzYZS"
      },
      "outputs": [],
      "source": [
        "mylist1 = ['apple','orange','banana']\n",
        "mylist2 = ['app','or','ab']\n",
        "mylist1.extend(mylist2)\n",
        "print(mylist1)\n",
        "mylist1.remove('orange')\n",
        "print(mylist1)\n",
        "mylist1.pop('orange')\n",
        "print(mylist1)\n",
        "delmylist2=('apple')\n",
        "print(mylist2)\n",
        "\n"
      ]
    },
    {
      "cell_type": "code",
      "execution_count": null,
      "metadata": {
        "colab": {
          "base_uri": "https://localhost:8080/"
        },
        "id": "g0nt6X09jJgy",
        "outputId": "2afe95fb-e7b2-4764-d323-d9af4ba530da"
      },
      "outputs": [
        {
          "name": "stdout",
          "output_type": "stream",
          "text": [
            "3\n",
            "[1, 4, 8]\n",
            "['apple', 'orange', 'banana']\n",
            "['apple', 1, 2, 'orange', True]\n",
            "orange\n",
            "[1, 2]\n",
            "yes,it is in mylist\n",
            "['apple', 'orange', 'orange']\n",
            "['apple', 'orange', 'orange', 'kiwi']\n",
            "['apple', 'orange', 'orange', 'kiwi', 'mango']\n"
          ]
        }
      ],
      "source": [
        "mylist=['apple','orange','banana']\n",
        "print(len(mylist))\n",
        "yourlist=[1,4,8]\n",
        "print(yourlist)\n",
        "mylist1=[True,False,True,False]\n",
        "print(mylist)\n",
        "mix=['apple',1,2,'orange',True]\n",
        "print(mix)\n",
        "print(mix[-2])\n",
        "print(mix[1:3])\n",
        "if\"apple\" in mix:\n",
        "  print('yes,it is in mylist')\n",
        "  mylist[2]=\"orange\"\n",
        "  print(mylist)\n",
        "mylist.insert(3,\"kiwi\")\n",
        "print(mylist)\n",
        "mylist.append(\"mango\")\n",
        "print(mylist)\n"
      ]
    },
    {
      "cell_type": "code",
      "execution_count": null,
      "metadata": {
        "id": "3urh5R3C2ypP"
      },
      "outputs": [],
      "source": [
        "mylist1 = ['apple','orange','banana']\n",
        "for i in  mylist1:\n",
        "  print(i)\n",
        "  while(length>2)\n"
      ]
    },
    {
      "cell_type": "code",
      "execution_count": null,
      "metadata": {
        "colab": {
          "base_uri": "https://localhost:8080/"
        },
        "id": "BQJyV9QBo5pG",
        "outputId": "16be5fda-33e0-495e-c367-d3413beb574c"
      },
      "outputs": [
        {
          "name": "stdout",
          "output_type": "stream",
          "text": [
            "sorted list: [-3, 4, 5, 7, 99]\n"
          ]
        }
      ],
      "source": [
        "unsorted_list=[5,4,-3,7,99]\n",
        "sorted_list=sorted(unsorted_list)\n",
        "print(\"sorted list:\",sorted_list)\n",
        "\n",
        "\n"
      ]
    },
    {
      "cell_type": "code",
      "execution_count": null,
      "metadata": {
        "colab": {
          "base_uri": "https://localhost:8080/"
        },
        "id": "5jyNxmCcxYNS",
        "outputId": "d4ae6054-9b67-4782-e985-12f691c3bf78"
      },
      "outputs": [
        {
          "name": "stdout",
          "output_type": "stream",
          "text": [
            "2\n",
            "(2, 4)\n"
          ]
        }
      ],
      "source": [
        "import numpy as np\n",
        "data2 = [[1,2,3,4],[5,5,7,8]]\n",
        "arr2 = np.array(data2)\n",
        "print(arr2.ndim)\n",
        "print(arr2.shape)"
      ]
    },
    {
      "cell_type": "code",
      "execution_count": null,
      "metadata": {
        "colab": {
          "base_uri": "https://localhost:8080/"
        },
        "id": "2vWn2c5BzSoM",
        "outputId": "d4209572-d00a-4603-b3fe-cfca51b3e0ef"
      },
      "outputs": [
        {
          "name": "stdout",
          "output_type": "stream",
          "text": [
            "2\n",
            "(3, 4)\n",
            "[[ 1  2  3  4]\n",
            " [ 5  6  7  8]\n",
            " [55 66 76 88]]\n"
          ]
        }
      ],
      "source": [
        "import numpy as np\n",
        "data2 = [[1,2,3,4],[5,6,7,8],[55,66,76,88]]\n",
        "arr2 = np.array(data2)\n",
        "print(arr2.ndim)\n",
        "print(arr2.shape)\n",
        "print(arr2)import numpy as np"
      ]
    },
    {
      "cell_type": "code",
      "execution_count": null,
      "metadata": {
        "colab": {
          "base_uri": "https://localhost:8080/"
        },
        "id": "sxdEu8220NBf",
        "outputId": "3c14c43d-0fb1-4c38-9dac-05bcf7a4c537"
      },
      "outputs": [
        {
          "data": {
            "text/plain": [
              "array([[0, 1, 2],\n",
              "       [2, 3, 4]])"
            ]
          },
          "execution_count": 27,
          "metadata": {},
          "output_type": "execute_result"
        }
      ],
      "source": [
        "array = np.arange(0,10,2)\n",
        "a"
      ]
    },
    {
      "cell_type": "code",
      "execution_count": null,
      "metadata": {
        "colab": {
          "base_uri": "https://localhost:8080/"
        },
        "id": "6AEtkMK33rzj",
        "outputId": "d5a7c7b7-5bd1-4ed3-86d8-d7ecf18b7f5a"
      },
      "outputs": [
        {
          "data": {
            "text/plain": [
              "array([[0, 1, 2],\n",
              "       [2, 3, 4]])"
            ]
          },
          "execution_count": 26,
          "metadata": {},
          "output_type": "execute_result"
        }
      ],
      "source": [
        "array = np.random.randint(0,10,(3,3))\n",
        "a"
      ]
    },
    {
      "cell_type": "code",
      "execution_count": null,
      "metadata": {
        "colab": {
          "base_uri": "https://localhost:8080/"
        },
        "id": "Z6fA0IFd4Q2S",
        "outputId": "fc9d3d60-aa66-4c2b-e89b-41c8612dfdef"
      },
      "outputs": [
        {
          "name": "stdout",
          "output_type": "stream",
          "text": [
            "[[1. 2. 3.]\n",
            " [4. 5. 6.]]\n"
          ]
        },
        {
          "data": {
            "text/plain": [
              "[4, 5, 6]"
            ]
          },
          "execution_count": 30,
          "metadata": {},
          "output_type": "execute_result"
        }
      ],
      "source": [
        "arr = np.array([[1.,2.,3],[4.,5.,6]])\n",
        "print(arr)\n",
        "[(1,2,3)]\n",
        "[4,5,6]\n"
      ]
    },
    {
      "cell_type": "code",
      "execution_count": null,
      "metadata": {
        "colab": {
          "background_save": true
        },
        "id": "GnIvUqCvBxRB",
        "outputId": "aaebbf8b-2765-4a2a-b6ff-d3458832df5b"
      },
      "outputs": [
        {
          "name": "stdout",
          "output_type": "stream",
          "text": [
            "enter row size\n"
          ]
        }
      ],
      "source": [
        "import numpy as np\n",
        "print()\n"
      ]
    },
    {
      "cell_type": "code",
      "source": [
        "def gcd_fun(x,y):\n",
        " if(y==0):#\n",
        "   return x\n",
        " else:\n",
        "  return gcd_fun(y,x%y)\n",
        "x =int(input(\"enter the first number:\"))\n",
        "y =int(input(\"enter the second number:\"))\n",
        "num=gcd_fun(x,y)\n",
        "print(\"GCD of two numbers is:\")\n",
        "print(num) # call num\n"
      ],
      "metadata": {
        "colab": {
          "base_uri": "https://localhost:8080/"
        },
        "id": "3sOkVLrCyzb4",
        "outputId": "d3934ea2-4c80-4dd2-ecd7-bab37ddb2881"
      },
      "execution_count": null,
      "outputs": [
        {
          "output_type": "stream",
          "name": "stdout",
          "text": [
            "enter the first number:20\n",
            "enter the second number:50\n",
            "GCD of two numbers is:\n",
            "10\n"
          ]
        }
      ]
    },
    {
      "cell_type": "code",
      "source": [
        "def linear_search(list1,n,key)\n",
        "for i in range(0,n)\n",
        "   if(list1[i] == key):\n",
        "    return i\n",
        "  return-1\n",
        "  list 1 = [1,3,5,4,7,9]\n",
        "  key = 7\n",
        "  n=len(list1)\n",
        "  res=linear_search(list1,n,key)\n",
        "  if(res==-1):\n",
        "    print(\"element not found\")\n",
        "  else:\n",
        "    print(\"element found at index:\",res)\n",
        "\n",
        "\n"
      ],
      "metadata": {
        "colab": {
          "base_uri": "https://localhost:8080/",
          "height": 106
        },
        "id": "vRoaUA7KG_71",
        "outputId": "33f062a4-5a01-4c76-e2fa-269ec97ec84a"
      },
      "execution_count": null,
      "outputs": [
        {
          "output_type": "error",
          "ename": "IndentationError",
          "evalue": "unindent does not match any outer indentation level (<tokenize>, line 5)",
          "traceback": [
            "\u001b[0;36m  File \u001b[0;32m\"<tokenize>\"\u001b[0;36m, line \u001b[0;32m5\u001b[0m\n\u001b[0;31m    return-1\u001b[0m\n\u001b[0m    ^\u001b[0m\n\u001b[0;31mIndentationError\u001b[0m\u001b[0;31m:\u001b[0m unindent does not match any outer indentation level\n"
          ]
        }
      ]
    }
  ],
  "metadata": {
    "colab": {
      "provenance": [],
      "authorship_tag": "ABX9TyOUK+drQOSIvG+yFpFJFajK",
      "include_colab_link": true
    },
    "kernelspec": {
      "display_name": "Python 3",
      "name": "python3"
    },
    "language_info": {
      "name": "python"
    }
  },
  "nbformat": 4,
  "nbformat_minor": 0
}